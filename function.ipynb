{
 "cells": [
  {
   "cell_type": "markdown",
   "id": "26fcbc3a",
   "metadata": {},
   "source": [
    "#### user define function "
   ]
  },
  {
   "cell_type": "markdown",
   "id": "c707b526",
   "metadata": {},
   "source": [
    "##### abs()    # absulute function is always positive  user enter negative value absulute function  change into positive"
   ]
  },
  {
   "cell_type": "code",
   "execution_count": 1,
   "id": "1c16c2ef",
   "metadata": {},
   "outputs": [
    {
     "data": {
      "text/plain": [
       "123"
      ]
     },
     "execution_count": 1,
     "metadata": {},
     "output_type": "execute_result"
    }
   ],
   "source": [
    "a=123\n",
    "abs(a)"
   ]
  },
  {
   "cell_type": "markdown",
   "id": "703836e3",
   "metadata": {},
   "source": [
    "##### pow() give power    2**5"
   ]
  },
  {
   "cell_type": "code",
   "execution_count": 2,
   "id": "acfb43a6",
   "metadata": {},
   "outputs": [
    {
     "data": {
      "text/plain": [
       "32"
      ]
     },
     "execution_count": 2,
     "metadata": {},
     "output_type": "execute_result"
    }
   ],
   "source": [
    "pow(2,5)"
   ]
  },
  {
   "cell_type": "markdown",
   "id": "e6f4e478",
   "metadata": {},
   "source": [
    "##### dir() directory"
   ]
  },
  {
   "cell_type": "code",
   "execution_count": 3,
   "id": "9fd90314",
   "metadata": {},
   "outputs": [],
   "source": [
    "import math"
   ]
  },
  {
   "cell_type": "code",
   "execution_count": 4,
   "id": "3e312041",
   "metadata": {},
   "outputs": [
    {
     "name": "stdout",
     "output_type": "stream",
     "text": [
      "['__doc__', '__loader__', '__name__', '__package__', '__spec__', 'acos', 'acosh', 'asin', 'asinh', 'atan', 'atan2', 'atanh', 'cbrt', 'ceil', 'comb', 'copysign', 'cos', 'cosh', 'degrees', 'dist', 'e', 'erf', 'erfc', 'exp', 'exp2', 'expm1', 'fabs', 'factorial', 'floor', 'fmod', 'frexp', 'fsum', 'gamma', 'gcd', 'hypot', 'inf', 'isclose', 'isfinite', 'isinf', 'isnan', 'isqrt', 'lcm', 'ldexp', 'lgamma', 'log', 'log10', 'log1p', 'log2', 'modf', 'nan', 'nextafter', 'perm', 'pi', 'pow', 'prod', 'radians', 'remainder', 'sin', 'sinh', 'sqrt', 'tan', 'tanh', 'tau', 'trunc', 'ulp']\n"
     ]
    }
   ],
   "source": [
    "print(dir(math))"
   ]
  },
  {
   "cell_type": "markdown",
   "id": "f8256457",
   "metadata": {},
   "source": [
    "##### round() roundup value"
   ]
  },
  {
   "cell_type": "code",
   "execution_count": 7,
   "id": "53a8143c",
   "metadata": {},
   "outputs": [
    {
     "data": {
      "text/plain": [
       "124"
      ]
     },
     "execution_count": 7,
     "metadata": {},
     "output_type": "execute_result"
    }
   ],
   "source": [
    "a=123.6\n",
    "round(a)"
   ]
  },
  {
   "cell_type": "markdown",
   "id": "e55e8c04",
   "metadata": {},
   "source": [
    "#### id()  give memory location"
   ]
  },
  {
   "cell_type": "code",
   "execution_count": 8,
   "id": "09253761",
   "metadata": {},
   "outputs": [
    {
     "data": {
      "text/plain": [
       "1947998607824"
      ]
     },
     "execution_count": 8,
     "metadata": {},
     "output_type": "execute_result"
    }
   ],
   "source": [
    "b=345\n",
    "id(b)"
   ]
  },
  {
   "cell_type": "markdown",
   "id": "000882d0",
   "metadata": {},
   "source": [
    "##### ord()  order function return ASKCII value"
   ]
  },
  {
   "cell_type": "code",
   "execution_count": 10,
   "id": "d708cb12",
   "metadata": {},
   "outputs": [
    {
     "data": {
      "text/plain": [
       "97"
      ]
     },
     "execution_count": 10,
     "metadata": {},
     "output_type": "execute_result"
    }
   ],
   "source": [
    "ord(\"a\")"
   ]
  },
  {
   "cell_type": "markdown",
   "id": "15c31512",
   "metadata": {},
   "source": [
    "#### divmod()  give ans division as well as module"
   ]
  },
  {
   "cell_type": "code",
   "execution_count": 12,
   "id": "eb48cbbf",
   "metadata": {},
   "outputs": [
    {
     "data": {
      "text/plain": [
       "(1, 9)"
      ]
     },
     "execution_count": 12,
     "metadata": {},
     "output_type": "execute_result"
    }
   ],
   "source": [
    "a=23\n",
    "b=14\n",
    "divmod(a,b)"
   ]
  },
  {
   "cell_type": "markdown",
   "id": "ce4eb775",
   "metadata": {},
   "source": [
    "#### help() "
   ]
  },
  {
   "cell_type": "code",
   "execution_count": 13,
   "id": "ff8bcf2e",
   "metadata": {},
   "outputs": [
    {
     "name": "stdout",
     "output_type": "stream",
     "text": [
      "Help on built-in function print in module builtins:\n",
      "\n",
      "print(*args, sep=' ', end='\\n', file=None, flush=False)\n",
      "    Prints the values to a stream, or to sys.stdout by default.\n",
      "    \n",
      "    sep\n",
      "      string inserted between values, default a space.\n",
      "    end\n",
      "      string appended after the last value, default a newline.\n",
      "    file\n",
      "      a file-like object (stream); defaults to the current sys.stdout.\n",
      "    flush\n",
      "      whether to forcibly flush the stream.\n",
      "\n"
     ]
    }
   ],
   "source": [
    "help(print)"
   ]
  },
  {
   "cell_type": "markdown",
   "id": "56669ae2",
   "metadata": {},
   "source": [
    "#### user define function with the help od def:- def is a keyword,  def means defination"
   ]
  },
  {
   "cell_type": "code",
   "execution_count": 16,
   "id": "717e7a68",
   "metadata": {},
   "outputs": [],
   "source": [
    "def sum1():\n",
    "    a=23\n",
    "    b=45\n",
    "    c=a+b\n",
    "    print(c)"
   ]
  },
  {
   "cell_type": "code",
   "execution_count": 17,
   "id": "601127be",
   "metadata": {},
   "outputs": [
    {
     "name": "stdout",
     "output_type": "stream",
     "text": [
      "68\n"
     ]
    }
   ],
   "source": [
    "sum1()"
   ]
  },
  {
   "cell_type": "code",
   "execution_count": 22,
   "id": "dc745230",
   "metadata": {},
   "outputs": [],
   "source": [
    "def mul1():\n",
    "    x=78\n",
    "    y=65\n",
    "    z=x*y\n",
    "    print(z)\n"
   ]
  },
  {
   "cell_type": "code",
   "execution_count": 23,
   "id": "efc91ac2",
   "metadata": {},
   "outputs": [
    {
     "name": "stdout",
     "output_type": "stream",
     "text": [
      "5070\n"
     ]
    }
   ],
   "source": [
    "mul1()"
   ]
  },
  {
   "cell_type": "markdown",
   "id": "f9a37a3a",
   "metadata": {},
   "source": [
    "#### absulute backend logic"
   ]
  },
  {
   "cell_type": "code",
   "execution_count": 24,
   "id": "4e370ae7",
   "metadata": {},
   "outputs": [],
   "source": [
    "def absolute(n):\n",
    "    a=str(n)\n",
    "    if \"-\" in a:\n",
    "        print(a[1:])\n",
    "    else:\n",
    "        print(n)\n"
   ]
  },
  {
   "cell_type": "code",
   "execution_count": 25,
   "id": "96c7f05e",
   "metadata": {},
   "outputs": [
    {
     "name": "stdout",
     "output_type": "stream",
     "text": [
      "345\n"
     ]
    }
   ],
   "source": [
    "absolute(-345)"
   ]
  },
  {
   "cell_type": "markdown",
   "id": "d9b62f44",
   "metadata": {},
   "source": [
    "#### Function without return and without parameter"
   ]
  },
  {
   "cell_type": "code",
   "execution_count": 26,
   "id": "86e77505",
   "metadata": {},
   "outputs": [],
   "source": [
    "def mult():\n",
    "    x=23\n",
    "    y=45\n",
    "    z=x*y\n",
    "    print(z)"
   ]
  },
  {
   "cell_type": "code",
   "execution_count": 27,
   "id": "44bb472f",
   "metadata": {},
   "outputs": [
    {
     "name": "stdout",
     "output_type": "stream",
     "text": [
      "1035\n"
     ]
    }
   ],
   "source": [
    "mult()\n"
   ]
  },
  {
   "cell_type": "markdown",
   "id": "eac65e03",
   "metadata": {},
   "source": [
    "#### Function with return and without parameters"
   ]
  },
  {
   "cell_type": "code",
   "execution_count": 28,
   "id": "12f24dd0",
   "metadata": {},
   "outputs": [],
   "source": [
    "def mult():\n",
    "    x=23\n",
    "    y=45\n",
    "    z=x*y\n",
    "    return z"
   ]
  },
  {
   "cell_type": "code",
   "execution_count": 29,
   "id": "55ef70d4",
   "metadata": {},
   "outputs": [
    {
     "data": {
      "text/plain": [
       "1035"
      ]
     },
     "execution_count": 29,
     "metadata": {},
     "output_type": "execute_result"
    }
   ],
   "source": [
    "mult()"
   ]
  },
  {
   "cell_type": "markdown",
   "id": "e700c08f",
   "metadata": {},
   "source": [
    "#### function without return and with parameters"
   ]
  },
  {
   "cell_type": "code",
   "execution_count": 31,
   "id": "d80577e9",
   "metadata": {},
   "outputs": [],
   "source": [
    "def mult(x,y):\n",
    "    z=x*y\n",
    "    print(z)"
   ]
  },
  {
   "cell_type": "code",
   "execution_count": 32,
   "id": "16a78087",
   "metadata": {},
   "outputs": [
    {
     "name": "stdout",
     "output_type": "stream",
     "text": [
      "1904\n"
     ]
    }
   ],
   "source": [
    "mult(34,56)"
   ]
  },
  {
   "cell_type": "markdown",
   "id": "55fade12",
   "metadata": {},
   "source": [
    "#### function with return and with parameters"
   ]
  },
  {
   "cell_type": "code",
   "execution_count": 33,
   "id": "721d00d6",
   "metadata": {},
   "outputs": [],
   "source": [
    "def mult(x,y):\n",
    "    z=x*y\n",
    "    return(z)"
   ]
  },
  {
   "cell_type": "code",
   "execution_count": 34,
   "id": "0c6d6376",
   "metadata": {},
   "outputs": [
    {
     "data": {
      "text/plain": [
       "5226"
      ]
     },
     "execution_count": 34,
     "metadata": {},
     "output_type": "execute_result"
    }
   ],
   "source": [
    "mult(67,78)"
   ]
  },
  {
   "cell_type": "code",
   "execution_count": 37,
   "id": "4ae10b60",
   "metadata": {},
   "outputs": [],
   "source": [
    "def sqr():\n",
    "    a=78\n",
    "    b=a**2\n",
    "    print(b)"
   ]
  },
  {
   "cell_type": "code",
   "execution_count": 38,
   "id": "e118de3c",
   "metadata": {},
   "outputs": [
    {
     "name": "stdout",
     "output_type": "stream",
     "text": [
      "6084\n"
     ]
    }
   ],
   "source": [
    "sqr()"
   ]
  },
  {
   "cell_type": "markdown",
   "id": "354eece3",
   "metadata": {},
   "source": [
    "#### with parameters"
   ]
  },
  {
   "cell_type": "code",
   "execution_count": 39,
   "id": "18c951e3",
   "metadata": {},
   "outputs": [],
   "source": [
    "def sqr(n):\n",
    "    m=n**2\n",
    "    return m\n"
   ]
  },
  {
   "cell_type": "code",
   "execution_count": 40,
   "id": "bda664cf",
   "metadata": {},
   "outputs": [
    {
     "data": {
      "text/plain": [
       "7569"
      ]
     },
     "execution_count": 40,
     "metadata": {},
     "output_type": "execute_result"
    }
   ],
   "source": [
    "sqr(87)"
   ]
  },
  {
   "cell_type": "code",
   "execution_count": 41,
   "id": "b8a90ff9",
   "metadata": {},
   "outputs": [],
   "source": [
    "def cube(n):\n",
    "    m=n**3\n",
    "    return m\n"
   ]
  },
  {
   "cell_type": "code",
   "execution_count": 42,
   "id": "34ef8016",
   "metadata": {},
   "outputs": [
    {
     "data": {
      "text/plain": [
       "704969"
      ]
     },
     "execution_count": 42,
     "metadata": {},
     "output_type": "execute_result"
    }
   ],
   "source": [
    "cube(89)"
   ]
  },
  {
   "cell_type": "markdown",
   "id": "6866928b",
   "metadata": {},
   "source": [
    "#### round()"
   ]
  },
  {
   "cell_type": "code",
   "execution_count": 1,
   "id": "d64f4b68",
   "metadata": {},
   "outputs": [],
   "source": [
    "def max_1():\n",
    "    n=[1,2,3,4,5,6,897,89765,76543,789,98765,675]\n",
    "    maximum=n[0]\n",
    "    for num in n:\n",
    "        if num>maximum:\n",
    "            maximum=num\n",
    "    print(maximum)       \n"
   ]
  },
  {
   "cell_type": "code",
   "execution_count": 2,
   "id": "f968c280",
   "metadata": {},
   "outputs": [
    {
     "name": "stdout",
     "output_type": "stream",
     "text": [
      "98765\n"
     ]
    }
   ],
   "source": [
    "max_1()"
   ]
  },
  {
   "cell_type": "code",
   "execution_count": 9,
   "id": "5e285516",
   "metadata": {},
   "outputs": [],
   "source": [
    " def max_2():\n",
    "    n=[1,2,3,4,5,6,897,89765,76543,789,98765,675]\n",
    "    minimum=n[0]\n",
    "    for num in n:\n",
    "        if num<minimum:\n",
    "            minimum=num\n",
    "    print(minimum)    "
   ]
  },
  {
   "cell_type": "code",
   "execution_count": 10,
   "id": "3db7d31b",
   "metadata": {},
   "outputs": [
    {
     "name": "stdout",
     "output_type": "stream",
     "text": [
      "1\n"
     ]
    }
   ],
   "source": [
    "max_2()"
   ]
  },
  {
   "cell_type": "markdown",
   "id": "db97efd8",
   "metadata": {},
   "source": []
  },
  {
   "cell_type": "markdown",
   "id": "ea42d209",
   "metadata": {},
   "source": [
    "### round "
   ]
  },
  {
   "cell_type": "code",
   "execution_count": 8,
   "id": "a99c496c",
   "metadata": {},
   "outputs": [],
   "source": [
    "def rou(number):\n",
    "    decimal_part=number-int(number)\n",
    "    if decimal_part>0.5:\n",
    "        return int(number)+1\n",
    "    else:\n",
    "        return int(number)\n",
    "      "
   ]
  },
  {
   "cell_type": "code",
   "execution_count": 9,
   "id": "17ac1812",
   "metadata": {},
   "outputs": [
    {
     "data": {
      "text/plain": [
       "79"
      ]
     },
     "execution_count": 9,
     "metadata": {},
     "output_type": "execute_result"
    }
   ],
   "source": [
    "rou(78.9)"
   ]
  },
  {
   "cell_type": "markdown",
   "id": "17e08b09",
   "metadata": {},
   "source": [
    "#### factorial"
   ]
  },
  {
   "cell_type": "code",
   "execution_count": 11,
   "id": "825d24df",
   "metadata": {},
   "outputs": [],
   "source": [
    "def facto(number):\n",
    "    factorial=1\n",
    "    for i in range(1,number+1):\n",
    "        factorial=factorial*i\n",
    "    print(factorial)  "
   ]
  },
  {
   "cell_type": "code",
   "execution_count": 14,
   "id": "a506f74f",
   "metadata": {},
   "outputs": [
    {
     "name": "stdout",
     "output_type": "stream",
     "text": [
      "120\n"
     ]
    }
   ],
   "source": [
    "facto(5)"
   ]
  },
  {
   "cell_type": "markdown",
   "id": "1b3a000f",
   "metadata": {},
   "source": [
    "### Local scope and global scope"
   ]
  },
  {
   "cell_type": "code",
   "execution_count": 15,
   "id": "7f64b735",
   "metadata": {},
   "outputs": [],
   "source": [
    "def l1():\n",
    "    x=300       # is a local, means function ke ander define krna\n",
    "    print(x)\n"
   ]
  },
  {
   "cell_type": "code",
   "execution_count": 16,
   "id": "e11c7529",
   "metadata": {},
   "outputs": [
    {
     "name": "stdout",
     "output_type": "stream",
     "text": [
      "300\n"
     ]
    }
   ],
   "source": [
    "l1()"
   ]
  },
  {
   "cell_type": "code",
   "execution_count": 17,
   "id": "d9756fa3",
   "metadata": {},
   "outputs": [],
   "source": [
    "y=300    #is a global function ke bahar define krna\n",
    "def l2():\n",
    "    print(y)\n"
   ]
  },
  {
   "cell_type": "code",
   "execution_count": 18,
   "id": "f3d2ca57",
   "metadata": {},
   "outputs": [
    {
     "name": "stdout",
     "output_type": "stream",
     "text": [
      "300\n"
     ]
    }
   ],
   "source": [
    "l2()"
   ]
  },
  {
   "cell_type": "code",
   "execution_count": 19,
   "id": "8e839422",
   "metadata": {},
   "outputs": [],
   "source": [
    "def arith():\n",
    "    a=34\n",
    "    b=34\n",
    "    c=a+b\n",
    "    print(c)\n",
    "    def arith2():\n",
    "        f=a*b\n",
    "        print(f)\n",
    "    arith2()    \n",
    "  \n",
    "    "
   ]
  },
  {
   "cell_type": "code",
   "execution_count": 20,
   "id": "1fc061f0",
   "metadata": {},
   "outputs": [
    {
     "name": "stdout",
     "output_type": "stream",
     "text": [
      "68\n",
      "1156\n"
     ]
    }
   ],
   "source": [
    "arith()\n"
   ]
  },
  {
   "cell_type": "code",
   "execution_count": 21,
   "id": "18f353cf",
   "metadata": {},
   "outputs": [
    {
     "data": {
      "text/plain": [
       "45"
      ]
     },
     "execution_count": 21,
     "metadata": {},
     "output_type": "execute_result"
    }
   ],
   "source": [
    "a"
   ]
  },
  {
   "cell_type": "code",
   "execution_count": 18,
   "id": "0badded8",
   "metadata": {},
   "outputs": [],
   "source": [
    "a=45\n",
    "b=34\n",
    "def arith2():\n",
    "        f=a*b\n",
    "        print(f)"
   ]
  },
  {
   "cell_type": "code",
   "execution_count": 10,
   "id": "d62cbff3",
   "metadata": {},
   "outputs": [
    {
     "name": "stdout",
     "output_type": "stream",
     "text": [
      "1156\n"
     ]
    }
   ],
   "source": [
    "arith2()"
   ]
  },
  {
   "cell_type": "code",
   "execution_count": 40,
   "id": "67976584",
   "metadata": {},
   "outputs": [],
   "source": [
    "def arith3():\n",
    "    global p,q,r\n",
    "    p=89\n",
    "    q=89\n",
    "    r=p+q\n",
    "    print(r)\n"
   ]
  },
  {
   "cell_type": "code",
   "execution_count": 45,
   "id": "4dc9568b",
   "metadata": {},
   "outputs": [
    {
     "name": "stdout",
     "output_type": "stream",
     "text": [
      "178\n"
     ]
    }
   ],
   "source": [
    "arith3()\n"
   ]
  },
  {
   "cell_type": "code",
   "execution_count": 46,
   "id": "0dd2c267",
   "metadata": {},
   "outputs": [
    {
     "data": {
      "text/plain": [
       "89"
      ]
     },
     "execution_count": 46,
     "metadata": {},
     "output_type": "execute_result"
    }
   ],
   "source": [
    "p"
   ]
  },
  {
   "cell_type": "code",
   "execution_count": 47,
   "id": "cc90ade3",
   "metadata": {},
   "outputs": [
    {
     "data": {
      "text/plain": [
       "89"
      ]
     },
     "execution_count": 47,
     "metadata": {},
     "output_type": "execute_result"
    }
   ],
   "source": [
    "q"
   ]
  },
  {
   "cell_type": "code",
   "execution_count": 49,
   "id": "99b1bd47",
   "metadata": {},
   "outputs": [
    {
     "data": {
      "text/plain": [
       "178"
      ]
     },
     "execution_count": 49,
     "metadata": {},
     "output_type": "execute_result"
    }
   ],
   "source": [
    "r"
   ]
  },
  {
   "cell_type": "code",
   "execution_count": 52,
   "id": "e643cbd7",
   "metadata": {},
   "outputs": [],
   "source": [
    "def add1():\n",
    "    arith3()\n"
   ]
  },
  {
   "cell_type": "code",
   "execution_count": 53,
   "id": "f0fadfc8",
   "metadata": {},
   "outputs": [
    {
     "name": "stdout",
     "output_type": "stream",
     "text": [
      "178\n"
     ]
    }
   ],
   "source": [
    "add1()"
   ]
  },
  {
   "cell_type": "code",
   "execution_count": null,
   "id": "f39aa43e",
   "metadata": {},
   "outputs": [],
   "source": []
  }
 ],
 "metadata": {
  "kernelspec": {
   "display_name": "Python 3 (ipykernel)",
   "language": "python",
   "name": "python3"
  },
  "language_info": {
   "codemirror_mode": {
    "name": "ipython",
    "version": 3
   },
   "file_extension": ".py",
   "mimetype": "text/x-python",
   "name": "python",
   "nbconvert_exporter": "python",
   "pygments_lexer": "ipython3",
   "version": "3.11.4"
  }
 },
 "nbformat": 4,
 "nbformat_minor": 5
}
