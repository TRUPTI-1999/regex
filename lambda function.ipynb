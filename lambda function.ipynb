{
 "cells": [
  {
   "cell_type": "markdown",
   "id": "52e5b25c",
   "metadata": {},
   "source": [
    "#### lambda function"
   ]
  },
  {
   "cell_type": "code",
   "execution_count": 5,
   "id": "0f343d1e",
   "metadata": {},
   "outputs": [],
   "source": [
    "# lambda arguments:expressions\n",
    "y=lambda x,y:x**y"
   ]
  },
  {
   "cell_type": "code",
   "execution_count": 6,
   "id": "f93b5734",
   "metadata": {},
   "outputs": [
    {
     "data": {
      "text/plain": [
       "5764801"
      ]
     },
     "execution_count": 6,
     "metadata": {},
     "output_type": "execute_result"
    }
   ],
   "source": [
    "y(7,8)"
   ]
  },
  {
   "cell_type": "code",
   "execution_count": 7,
   "id": "1f7dcea8",
   "metadata": {},
   "outputs": [],
   "source": [
    "x=lambda a:a+10"
   ]
  },
  {
   "cell_type": "code",
   "execution_count": 8,
   "id": "a50c878a",
   "metadata": {},
   "outputs": [
    {
     "data": {
      "text/plain": [
       "16"
      ]
     },
     "execution_count": 8,
     "metadata": {},
     "output_type": "execute_result"
    }
   ],
   "source": [
    "x(6)"
   ]
  },
  {
   "cell_type": "markdown",
   "id": "e809a0c1",
   "metadata": {},
   "source": [
    "#### double , triplet"
   ]
  },
  {
   "cell_type": "code",
   "execution_count": 12,
   "id": "a6c887a1",
   "metadata": {},
   "outputs": [
    {
     "data": {
      "text/plain": [
       "234"
      ]
     },
     "execution_count": 12,
     "metadata": {},
     "output_type": "execute_result"
    }
   ],
   "source": [
    "def f1(n):\n",
    "    return lambda a:a*n\n",
    "double=f1(2)\n",
    "double(13)\n",
    "triplet=f1(3)\n",
    "triplet(78)\n",
    "\n"
   ]
  },
  {
   "cell_type": "code",
   "execution_count": 2,
   "id": "64538c7f",
   "metadata": {},
   "outputs": [
    {
     "data": {
      "text/plain": [
       "15"
      ]
     },
     "execution_count": 2,
     "metadata": {},
     "output_type": "execute_result"
    }
   ],
   "source": [
    "add=lambda x,y:x+y\n",
    "add(7,8)"
   ]
  },
  {
   "cell_type": "code",
   "execution_count": 3,
   "id": "ce92e732",
   "metadata": {},
   "outputs": [],
   "source": [
    "def add1(p,q):\n",
    "    c=p+q\n",
    "    return c"
   ]
  },
  {
   "cell_type": "code",
   "execution_count": 4,
   "id": "fd3ba0c5",
   "metadata": {},
   "outputs": [
    {
     "data": {
      "text/plain": [
       "79"
      ]
     },
     "execution_count": 4,
     "metadata": {},
     "output_type": "execute_result"
    }
   ],
   "source": [
    "add1(23,56)"
   ]
  },
  {
   "cell_type": "code",
   "execution_count": null,
   "id": "cbe484e2",
   "metadata": {},
   "outputs": [],
   "source": []
  },
  {
   "cell_type": "markdown",
   "id": "c44e1b96",
   "metadata": {},
   "source": [
    "### filter()"
   ]
  },
  {
   "cell_type": "code",
   "execution_count": 1,
   "id": "23e73c99",
   "metadata": {},
   "outputs": [
    {
     "name": "stdout",
     "output_type": "stream",
     "text": [
      "(67,)\n"
     ]
    }
   ],
   "source": [
    "l=(56,33,13,23,22,45,56,67,3)\n",
    "x=tuple(filter(lambda a:a>57,l))\n",
    "print(x)"
   ]
  },
  {
   "cell_type": "markdown",
   "id": "e64b3555",
   "metadata": {},
   "source": [
    "## map()"
   ]
  },
  {
   "cell_type": "code",
   "execution_count": 5,
   "id": "0c212d94",
   "metadata": {},
   "outputs": [
    {
     "name": "stdout",
     "output_type": "stream",
     "text": [
      "[1, 4, 9, 16, 25, 36, 49, 64, 81]\n"
     ]
    }
   ],
   "source": [
    "nums=[1,2,3,4,5,6,7,8,9]\n",
    "square=list(map(lambda a:a*a,nums))\n",
    "print(square)"
   ]
  },
  {
   "cell_type": "markdown",
   "id": "60e59ed6",
   "metadata": {},
   "source": [
    "### reduce()"
   ]
  },
  {
   "cell_type": "markdown",
   "id": "9ac4d6ec",
   "metadata": {},
   "source": [
    "the reduce (fn,seq)fn is used to apply a perticular fn passed in its arguments to all of the\n",
    "list element mentioned in the sequebce passed along.\n",
    "- defined i9n \"functools\" modules\n",
    "- 2 4 6 8\n",
    "- 2+4 6 8\n",
    "- 6+6 8\n",
    "- 12+8\n",
    "- 20 \n",
    "- At first step 1st 2 element of a sequence are picked and the result is obtained.\n",
    "\n",
    "\n",
    "Syntax:\n",
    "-from functool import reduce\n",
    "result= reduce(lambda x,y :expression ,iterable)"
   ]
  },
  {
   "cell_type": "markdown",
   "id": "928232ff",
   "metadata": {},
   "source": [
    "### Sum of list element using reduce fn"
   ]
  },
  {
   "cell_type": "code",
   "execution_count": 6,
   "id": "9cfbdfa7",
   "metadata": {},
   "outputs": [],
   "source": [
    "from functools import reduce\n",
    "def myfn(a,b):\n",
    "    return a*b"
   ]
  },
  {
   "cell_type": "code",
   "execution_count": 7,
   "id": "289195b8",
   "metadata": {},
   "outputs": [
    {
     "data": {
      "text/plain": [
       "5040"
      ]
     },
     "execution_count": 7,
     "metadata": {},
     "output_type": "execute_result"
    }
   ],
   "source": [
    "val=[1,2,3,4,5,6,7]    #1,2 are a,b\n",
    "add=reduce(myfn,val)\n",
    "add"
   ]
  },
  {
   "cell_type": "code",
   "execution_count": 8,
   "id": "5701d41a",
   "metadata": {},
   "outputs": [],
   "source": [
    "add_lambda=reduce(lambda a,b:a+b,val)"
   ]
  },
  {
   "cell_type": "code",
   "execution_count": 9,
   "id": "3cf6da79",
   "metadata": {},
   "outputs": [
    {
     "data": {
      "text/plain": [
       "28"
      ]
     },
     "execution_count": 9,
     "metadata": {},
     "output_type": "execute_result"
    }
   ],
   "source": [
    "add_lambda"
   ]
  },
  {
   "cell_type": "markdown",
   "id": "98c27d67",
   "metadata": {},
   "source": [
    "#### Finding max value in the list using reduce function"
   ]
  },
  {
   "cell_type": "code",
   "execution_count": 12,
   "id": "8060f841",
   "metadata": {},
   "outputs": [],
   "source": [
    "def maximum(a,b):\n",
    "    if a>b:\n",
    "        return a\n",
    "    else:\n",
    "        return b\n"
   ]
  },
  {
   "cell_type": "code",
   "execution_count": 13,
   "id": "378bc6a9",
   "metadata": {},
   "outputs": [],
   "source": [
    "val=[2,4,5,7,10,19,20,10]\n",
    "max1=reduce(maximum,val)"
   ]
  },
  {
   "cell_type": "code",
   "execution_count": 14,
   "id": "a70d1729",
   "metadata": {},
   "outputs": [
    {
     "data": {
      "text/plain": [
       "20"
      ]
     },
     "execution_count": 14,
     "metadata": {},
     "output_type": "execute_result"
    }
   ],
   "source": [
    "max1"
   ]
  },
  {
   "cell_type": "code",
   "execution_count": 15,
   "id": "5d639c3d",
   "metadata": {},
   "outputs": [],
   "source": [
    "max_lambda=reduce(lambda a,b:a if a>b else b,val)"
   ]
  },
  {
   "cell_type": "code",
   "execution_count": 16,
   "id": "c28b55c8",
   "metadata": {},
   "outputs": [
    {
     "data": {
      "text/plain": [
       "20"
      ]
     },
     "execution_count": 16,
     "metadata": {},
     "output_type": "execute_result"
    }
   ],
   "source": [
    "max_lambda"
   ]
  },
  {
   "cell_type": "markdown",
   "id": "014827ae",
   "metadata": {},
   "source": [
    "### product of numbers"
   ]
  },
  {
   "cell_type": "code",
   "execution_count": 17,
   "id": "f9ffba43",
   "metadata": {},
   "outputs": [
    {
     "name": "stdout",
     "output_type": "stream",
     "text": [
      "product of element: 120\n"
     ]
    }
   ],
   "source": [
    "numbers=[1,2,3,4,5]\n",
    "product = reduce(lambda x,y:x*y,numbers)\n",
    "print(\"product of element:\",product)"
   ]
  },
  {
   "cell_type": "code",
   "execution_count": null,
   "id": "dd1407b7",
   "metadata": {},
   "outputs": [],
   "source": []
  }
 ],
 "metadata": {
  "kernelspec": {
   "display_name": "Python 3 (ipykernel)",
   "language": "python",
   "name": "python3"
  },
  "language_info": {
   "codemirror_mode": {
    "name": "ipython",
    "version": 3
   },
   "file_extension": ".py",
   "mimetype": "text/x-python",
   "name": "python",
   "nbconvert_exporter": "python",
   "pygments_lexer": "ipython3",
   "version": "3.11.4"
  }
 },
 "nbformat": 4,
 "nbformat_minor": 5
}
